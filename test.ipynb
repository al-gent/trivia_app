{
 "cells": [
  {
   "cell_type": "code",
   "execution_count": 67,
   "metadata": {},
   "outputs": [],
   "source": [
    "import streamlit as st\n",
    "import pandas as pd\n",
    "import numpy as np\n",
    "import datetime\n",
    "import requests\n",
    "import json\n",
    "import time\n",
    "import urllib.parse\n",
    "import urllib.request\n",
    "from openai import OpenAI\n",
    "import os\n",
    "from dotenv import load_dotenv\n",
    "\n"
   ]
  },
  {
   "cell_type": "code",
   "execution_count": 68,
   "metadata": {},
   "outputs": [],
   "source": [
    "def wiki_trending_today(n):\n",
    "    \"\"\"Grab n trending wikipedia articles from today\n",
    "    Returns a tuple, (titles, extracts)\"\"\"\n",
    "    today = datetime.datetime.now()\n",
    "    date = today.strftime('%Y/%m/%d')\n",
    "    language_code = 'en'\n",
    "\n",
    "    load_dotenv()\n",
    "    headers = {\n",
    "    'Authorization': os.getenv('wiki_key'),\n",
    "    'User-Agent': os.getenv('USER_AGENT')\n",
    "    }\n",
    "    base_url = 'https://api.wikimedia.org/feed/v1/wikipedia/'\n",
    "    url = base_url + language_code + '/featured/' + date\n",
    "    response = requests.get(url, headers=headers)\n",
    "    response = json.loads(response.text)\n",
    "    titles= []\n",
    "    extracts=[]\n",
    "    for i in response['mostread']['articles'][:n]:\n",
    "        if 'description' in i.keys():\n",
    "            titles.append(i['titles']['normalized'])\n",
    "            extracts.append(i['extract'])\n",
    "    return titles, extracts\n"
   ]
  },
  {
   "cell_type": "code",
   "execution_count": 69,
   "metadata": {},
   "outputs": [],
   "source": [
    "def find_corresponding_news(titles, n, m):\n",
    "    \"\"\"given a list of titles, collect news articles corresponding to the first n titles\n",
    "    Returns a list of strings, where each string can be used as a context for LLM\n",
    "    \"\"\"\n",
    "    gnews_key= os.getenv(\"gnews_key\")\n",
    "    all_contexts=[]\n",
    "    for title in titles[:n]:\n",
    "        context=[]\n",
    "        url = f'https://gnews.io/api/v4/search?q=\"{urllib.parse.quote(title)}\"&lang=en&country=us&max={m}&apikey={gnews_key}'\n",
    "        with urllib.request.urlopen(url) as res:\n",
    "            data = json.loads(res.read().decode(\"utf-8\"))\n",
    "            for i in range(m):\n",
    "                context.append(data[\"articles\"][i]['content'])\n",
    "        time.sleep(1)\n",
    "        all_contexts.append(context)\n",
    "    all_str_context=[]\n",
    "    for context in all_contexts:\n",
    "        strcontext=\"\"\n",
    "        for i in context:\n",
    "            strcontext += i +'\\n'\n",
    "        all_str_context.append(strcontext)\n",
    "    return all_str_context\n",
    "\n"
   ]
  },
  {
   "cell_type": "code",
   "execution_count": 70,
   "metadata": {},
   "outputs": [],
   "source": [
    "def generate_questions(background, news):\n",
    "    client = OpenAI()\n",
    "    res=[]\n",
    "    for b, n in zip(background, news):\n",
    "        completion = client.chat.completions.create(\n",
    "            model=\"gpt-4o-mini\",\n",
    "            messages=[\n",
    "                {\"role\": \"system\", \"content\": \"You are a beloved charismatic host of trivia at your local bar.Your job is to ask trivia questions using the context provided and then also provide the correct answer.\"},\n",
    "                {\"role\": \"system\", \"content\": \"Format your response like Q: question newline A: answer\"},\n",
    "                {\"role\": \"system\", \"content\": \"Use this as context for your question:\" + b + '\\n' + n},\n",
    "                {\"role\": \"user\", \"content\": \"Based on the context, please ask your audience a question and provide the correct answer afterward.\"},\n",
    "                {\"role\": \"system\", \"content\": \"If your question contains themes of violence, simply respond 'pass' \"},\n",
    "\n",
    "            ]\n",
    "        )\n",
    "        print(completion.choices[0].message.content)\n",
    "        res.append(completion.choices[0].message.content)\n",
    "    return res\n",
    "\n"
   ]
  },
  {
   "cell_type": "code",
   "execution_count": 71,
   "metadata": {},
   "outputs": [],
   "source": [
    "titles, extracts = wiki_trending_today(2)"
   ]
  },
  {
   "cell_type": "code",
   "execution_count": 72,
   "metadata": {},
   "outputs": [
    {
     "name": "stdout",
     "output_type": "stream",
     "text": [
      "['Pete Rose', 'Lyle and Erik Menendez']\n"
     ]
    }
   ],
   "source": [
    "print(titles)"
   ]
  },
  {
   "cell_type": "code",
   "execution_count": 73,
   "metadata": {},
   "outputs": [
    {
     "name": "stdout",
     "output_type": "stream",
     "text": [
      "['Longtime Pete Rose teammate Tony Perez said MLB’s hit king “wasn’t him at all” the day before he died Monday at the age of 83.\\nPerez, who played alongside Rose with the Reds for 16 seasons, saw his friend Sunday during an autographs show in Tennessee... [2930 chars]\\nLAS VEGAS (AP) — Betting on baseball got Pete Rose banned from the game, never to return while he was alive.\\nBut, perhaps appropriately, he found a home in the nation’s gambling capital — where acceptance wasn’t a problem.\\nIn choosing to live in Las ... [5432 chars]\\n', '1 of 5 | Micaela Diamond and Nicholas Alexander Chavez appear in a scene from \"Grotesquerie,\" airing on Thursday nights. Photo courtesy of FX/Hulu\\nNEW YORK, Oct. 2 (UPI) -- Nicholas Alexander Chavez says it was a fascinating learning experience to wo... [4603 chars]\\nTopline\\nNetflix\\'s dramatic series based on brothers Erik and Lyle Menendez and the murder of their parents drew more than 50% more viewers in its second week amid criticism from one brother and a boast from creator Ryan Murphy the show is “best thing... [5268 chars]\\n']\n"
     ]
    }
   ],
   "source": [
    "news = find_corresponding_news(titles, 2, 2)\n",
    "print(news)"
   ]
  },
  {
   "cell_type": "code",
   "execution_count": 74,
   "metadata": {},
   "outputs": [
    {
     "name": "stdout",
     "output_type": "stream",
     "text": [
      "['Longtime Pete Rose teammate Tony Perez said MLB’s hit king “wasn’t him at all” the day before he died Monday at the age of 83.\\nPerez, who played alongside Rose with the Reds for 16 seasons, saw his friend Sunday during an autographs show in Tennessee... [2930 chars]\\nLAS VEGAS (AP) — Betting on baseball got Pete Rose banned from the game, never to return while he was alive.\\nBut, perhaps appropriately, he found a home in the nation’s gambling capital — where acceptance wasn’t a problem.\\nIn choosing to live in Las ... [5432 chars]\\n', '1 of 5 | Micaela Diamond and Nicholas Alexander Chavez appear in a scene from \"Grotesquerie,\" airing on Thursday nights. Photo courtesy of FX/Hulu\\nNEW YORK, Oct. 2 (UPI) -- Nicholas Alexander Chavez says it was a fascinating learning experience to wo... [4603 chars]\\nTopline\\nNetflix\\'s dramatic series based on brothers Erik and Lyle Menendez and the murder of their parents drew more than 50% more viewers in its second week amid criticism from one brother and a boast from creator Ryan Murphy the show is “best thing... [5268 chars]\\n']\n"
     ]
    }
   ],
   "source": [
    "print(news)"
   ]
  },
  {
   "cell_type": "code",
   "execution_count": 75,
   "metadata": {},
   "outputs": [
    {
     "name": "stdout",
     "output_type": "stream",
     "text": [
      "Q: What was the nickname of Peter Edward Rose Sr., the American professional baseball player and manager, known for his time with the Cincinnati Reds and as the MLB's hit king?  \n",
      "A: Charlie Hustle\n",
      "Q: What are the names of the parents that Erik and Lyle Menendez were convicted of murdering?  \n",
      "A: José and Mary Louise \"Kitty\" Menendez.\n"
     ]
    }
   ],
   "source": [
    "res =generate_questions(extracts, news)"
   ]
  },
  {
   "cell_type": "code",
   "execution_count": 76,
   "metadata": {},
   "outputs": [
    {
     "name": "stdout",
     "output_type": "stream",
     "text": [
      "Q: What was the nickname of Peter Edward Rose Sr., the American professional baseball player and manager, known for his time with the Cincinnati Reds and as the MLB's hit king?  \n",
      "Charlie Hustle\n",
      "Q: What are the names of the parents that Erik and Lyle Menendez were convicted of murdering?  \n",
      "José and Mary Louise \"Kitty\" Menendez.\n"
     ]
    }
   ],
   "source": [
    "for QA in res:\n",
    "    if QA != 'pass':\n",
    "        question, answer = QA.split('\\nA: ')\n",
    "        with st.expander(f\"{question}\"):  # Use f-string to pass the question\n",
    "            st.markdown(f\"{answer}\")  # Use f-string to display the answer"
   ]
  }
 ],
 "metadata": {
  "kernelspec": {
   "display_name": "base",
   "language": "python",
   "name": "python3"
  },
  "language_info": {
   "codemirror_mode": {
    "name": "ipython",
    "version": 3
   },
   "file_extension": ".py",
   "mimetype": "text/x-python",
   "name": "python",
   "nbconvert_exporter": "python",
   "pygments_lexer": "ipython3",
   "version": "3.11.8"
  }
 },
 "nbformat": 4,
 "nbformat_minor": 2
}
